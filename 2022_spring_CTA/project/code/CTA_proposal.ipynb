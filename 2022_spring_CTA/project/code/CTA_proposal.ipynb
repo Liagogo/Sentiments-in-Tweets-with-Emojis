{
 "cells": [
  {
   "cell_type": "markdown",
   "metadata": {},
   "source": [
    "# How Does Arousal Affect Viewers’ Engagement in Sponsored Social Media Content? Sentiment Analysis of Sponsored Tweets of Online Influencers\n",
    "\n",
    "1. Download data\n",
    "2. Construct dataset\n",
    "3. Sentiment Analysis\n",
    "4. Prediction"
   ]
  },
  {
   "cell_type": "markdown",
   "metadata": {},
   "source": [
    "## Github push & pull"
   ]
  },
  {
   "cell_type": "code",
   "execution_count": 6,
   "metadata": {},
   "outputs": [
    {
     "data": {
      "text/plain": [
       "'/Users/leahtan/Documents/3_study/self_study/Python/2022_spring_CTA/project/code'"
      ]
     },
     "execution_count": 6,
     "metadata": {},
     "output_type": "execute_result"
    }
   ],
   "source": [
    "# ! pip install Tweepy\n",
    "import os\n",
    "os.getcwd()"
   ]
  },
  {
   "cell_type": "code",
   "execution_count": 5,
   "metadata": {},
   "outputs": [],
   "source": [
    "! cd /Users/leahtan/Documents/3_study/self_study/Python/2022_spring_CTA/project/code"
   ]
  },
  {
   "cell_type": "code",
   "execution_count": 7,
   "metadata": {},
   "outputs": [
    {
     "name": "stdout",
     "output_type": "stream",
     "text": [
      "fatal: destination path 'Tweet-Emotion-Analysis' already exists and is not an empty directory.\r\n"
     ]
    }
   ],
   "source": [
    "! git clone https://github.com/Liagogo/Tweet-Emotion-Analysis"
   ]
  },
  {
   "cell_type": "code",
   "execution_count": 8,
   "metadata": {},
   "outputs": [
    {
     "name": "stdout",
     "output_type": "stream",
     "text": [
      "error: remote main already exists.\r\n"
     ]
    }
   ],
   "source": [
    "! git remote add main https://github.com/Liagogo/Tweet-Emotion-Analysis"
   ]
  },
  {
   "cell_type": "code",
   "execution_count": 13,
   "metadata": {},
   "outputs": [
    {
     "name": "stdout",
     "output_type": "stream",
     "text": [
      "fatal: not a valid object name: 'master'\n",
      "error: pathspec 'main' did not match any file(s) known to git\n"
     ]
    }
   ],
   "source": [
    "! git branch main\n",
    "! git checkout main"
   ]
  },
  {
   "cell_type": "code",
   "execution_count": 10,
   "metadata": {},
   "outputs": [
    {
     "name": "stdout",
     "output_type": "stream",
     "text": [
      "error: pathspec 'CTA_proposal_1.ipynb' did not match any file(s) known to git\r\n"
     ]
    }
   ],
   "source": [
    "! git commit -m 'code1' CTA_proposal_1.ipynb"
   ]
  },
  {
   "cell_type": "code",
   "execution_count": 4,
   "metadata": {},
   "outputs": [
    {
     "name": "stdout",
     "output_type": "stream",
     "text": [
      "On branch master\r\n",
      "\r\n",
      "No commits yet\r\n",
      "\r\n",
      "Changes to be committed:\r\n",
      "  (use \"git rm --cached <file>...\" to unstage)\r\n",
      "\t\u001b[32mnew file:   CTA_proposal.ipynb\u001b[m\r\n",
      "\t\u001b[32mnew file:   ../vad_dic.zip\u001b[m\r\n",
      "\t\u001b[32mnew file:   \"../\\350\\257\\276\\347\\250\\213\\351\\241\\271\\347\\233\\256\\346\\226\\271\\346\\241\\210_\\350\\260\\255\\344\\271\\220\\347\\221\\266_120120910074.docx\"\u001b[m\r\n",
      "\t\u001b[32mnew file:   \"../\\350\\257\\276\\347\\250\\213\\351\\241\\271\\347\\233\\256\\346\\226\\271\\346\\241\\210_\\350\\260\\255\\344\\271\\220\\347\\221\\266_120120910074.pdf\"\u001b[m\r\n",
      "\t\u001b[32mnew file:   \"../\\350\\257\\276\\347\\250\\213\\351\\241\\271\\347\\233\\256\\350\\246\\201\\346\\261\\202-\\350\\256\\241\\347\\256\\227\\346\\226\\207\\346\\234\\254\\345\\210\\206\\346\\236\\220-2022\\346\\230\\245.pdf\"\u001b[m\r\n",
      "\r\n",
      "Untracked files:\r\n",
      "  (use \"git add <file>...\" to include in what will be committed)\r\n",
      "\t\u001b[31m../../../.DS_Store\u001b[m\r\n",
      "\t\u001b[31m../../.DS_Store\u001b[m\r\n",
      "\t\u001b[31m../../.idea/\u001b[m\r\n",
      "\t\u001b[31m../../2021_week5_lab/\u001b[m\r\n",
      "\t\u001b[31m../.DS_Store\u001b[m\r\n",
      "\t\u001b[31m.ipynb_checkpoints/\u001b[m\r\n",
      "\t\u001b[31mTweet-Emotion-Analysis/\u001b[m\r\n",
      "\t\u001b[31m../../week1-intro/\u001b[m\r\n",
      "\t\u001b[31m../../week10-lab3/\u001b[m\r\n",
      "\t\u001b[31m../../week2-WebScraping/\u001b[m\r\n",
      "\t\u001b[31m../../week3-lab/\u001b[m\r\n",
      "\t\u001b[31m../../week4-processing/\u001b[m\r\n",
      "\t\u001b[31m../../week5-tm&we/\u001b[m\r\n",
      "\t\u001b[31m../../week6-lab-craw+tm&we/\u001b[m\r\n",
      "\t\u001b[31m../../week7-introML/\u001b[m\r\n",
      "\t\u001b[31m../../week8-introDL/\u001b[m\r\n",
      "\t\u001b[31m../../week9-CNN-RNN/\u001b[m\r\n",
      "\t\u001b[31m../../../Empirical_IO_2022Spring 2/\u001b[m\r\n",
      "\t\u001b[31m../../../py_4_e/\u001b[m\r\n",
      "\t\u001b[31m../../../py_projects_2022/\u001b[m\r\n",
      "\t\u001b[31m../../../py_pycharm/\u001b[m\r\n",
      "\t\u001b[31m../../../visualization/\u001b[m\r\n",
      "\r\n"
     ]
    }
   ],
   "source": [
    "! git status"
   ]
  },
  {
   "cell_type": "code",
   "execution_count": 5,
   "metadata": {},
   "outputs": [
    {
     "name": "stdout",
     "output_type": "stream",
     "text": [
      "error: pathspec 'CTA_proposal_1.ipynb' did not match any file(s) known to git\r\n"
     ]
    }
   ],
   "source": [
    "! git commit -m 'code1' CTA_proposal_1.ipynb"
   ]
  },
  {
   "cell_type": "markdown",
   "metadata": {},
   "source": [
    "## Data Scraping"
   ]
  },
  {
   "cell_type": "code",
   "execution_count": null,
   "metadata": {},
   "outputs": [],
   "source": []
  }
 ],
 "metadata": {
  "kernelspec": {
   "display_name": "Python 3",
   "language": "python",
   "name": "python3"
  },
  "language_info": {
   "codemirror_mode": {
    "name": "ipython",
    "version": 3
   },
   "file_extension": ".py",
   "mimetype": "text/x-python",
   "name": "python",
   "nbconvert_exporter": "python",
   "pygments_lexer": "ipython3",
   "version": "3.8.5"
  }
 },
 "nbformat": 4,
 "nbformat_minor": 4
}
