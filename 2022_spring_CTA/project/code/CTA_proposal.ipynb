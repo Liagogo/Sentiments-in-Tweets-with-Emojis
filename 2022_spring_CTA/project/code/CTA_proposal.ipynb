{
 "cells": [
  {
   "cell_type": "markdown",
   "metadata": {},
   "source": [
    "# How Does Arousal Affect Viewers’ Engagement in Sponsored Social Media Content? Sentiment Analysis of Sponsored Tweets of Online Influencers\n",
    "\n",
    "1. Download data\n",
    "2. Construct dataset\n",
    "3. Sentiment Analysis\n",
    "4. Prediction"
   ]
  },
  {
   "cell_type": "markdown",
   "metadata": {},
   "source": [
    "## Github push & pull"
   ]
  },
  {
   "cell_type": "code",
   "execution_count": 6,
   "metadata": {},
   "outputs": [
    {
     "data": {
      "text/plain": [
       "'/Users/leahtan/Documents/3_study/self_study/Python/2022_spring_CTA/project/code'"
      ]
     },
     "execution_count": 6,
     "metadata": {},
     "output_type": "execute_result"
    }
   ],
   "source": [
    "# ! pip install Tweepy\n",
    "import os\n",
    "os.getcwd()"
   ]
  },
  {
   "cell_type": "code",
   "execution_count": 5,
   "metadata": {},
   "outputs": [],
   "source": [
    "! cd /Users/leahtan/Documents/3_study/self_study/Python/2022_spring_CTA/project/code"
   ]
  },
  {
   "cell_type": "code",
   "execution_count": 7,
   "metadata": {},
   "outputs": [
    {
     "name": "stdout",
     "output_type": "stream",
     "text": [
      "fatal: destination path 'Tweet-Emotion-Analysis' already exists and is not an empty directory.\r\n"
     ]
    }
   ],
   "source": [
    "! git clone https://github.com/Liagogo/Tweet-Emotion-Analysis"
   ]
  },
  {
   "cell_type": "code",
   "execution_count": 8,
   "metadata": {},
   "outputs": [
    {
     "name": "stdout",
     "output_type": "stream",
     "text": [
      "error: remote main already exists.\r\n"
     ]
    }
   ],
   "source": [
    "! git remote add main https://github.com/Liagogo/Tweet-Emotion-Analysis"
   ]
  },
  {
   "cell_type": "code",
   "execution_count": 15,
   "metadata": {},
   "outputs": [
    {
     "name": "stdout",
     "output_type": "stream",
     "text": [
      "M\t2022_spring_CTA/project/code/CTA_proposal.ipynb\r\n",
      "A\t2022_spring_CTA/project/vad_dic.zip\r\n",
      "A\t\"2022_spring_CTA/project/\\350\\257\\276\\347\\250\\213\\351\\241\\271\\347\\233\\256\\346\\226\\271\\346\\241\\210_\\350\\260\\255\\344\\271\\220\\347\\221\\266_120120910074.docx\"\r\n",
      "A\t\"2022_spring_CTA/project/\\350\\257\\276\\347\\250\\213\\351\\241\\271\\347\\233\\256\\346\\226\\271\\346\\241\\210_\\350\\260\\255\\344\\271\\220\\347\\221\\266_120120910074.pdf\"\r\n",
      "A\t\"2022_spring_CTA/project/\\350\\257\\276\\347\\250\\213\\351\\241\\271\\347\\233\\256\\350\\246\\201\\346\\261\\202-\\350\\256\\241\\347\\256\\227\\346\\226\\207\\346\\234\\254\\345\\210\\206\\346\\236\\220-2022\\346\\230\\245.pdf\"\r\n",
      "Switched to branch 'main'\r\n"
     ]
    }
   ],
   "source": [
    "! git checkout main"
   ]
  },
  {
   "cell_type": "code",
   "execution_count": 22,
   "metadata": {},
   "outputs": [
    {
     "name": "stdout",
     "output_type": "stream",
     "text": [
      "[main cd4efc8] code1\r\n",
      " 1 file changed, 44 insertions(+), 14 deletions(-)\r\n"
     ]
    }
   ],
   "source": [
    "! git commit -m 'code1' CTA_proposal.ipynb"
   ]
  },
  {
   "cell_type": "code",
   "execution_count": 34,
   "metadata": {},
   "outputs": [
    {
     "name": "stdout",
     "output_type": "stream",
     "text": [
      "On branch main\r\n",
      "Changes to be committed:\r\n",
      "  (use \"git restore --staged <file>...\" to unstage)\r\n",
      "\t\u001b[32mnew file:   ../vad_dic.zip\u001b[m\r\n",
      "\t\u001b[32mnew file:   \"../\\350\\257\\276\\347\\250\\213\\351\\241\\271\\347\\233\\256\\346\\226\\271\\346\\241\\210_\\350\\260\\255\\344\\271\\220\\347\\221\\266_120120910074.docx\"\u001b[m\r\n",
      "\t\u001b[32mnew file:   \"../\\350\\257\\276\\347\\250\\213\\351\\241\\271\\347\\233\\256\\346\\226\\271\\346\\241\\210_\\350\\260\\255\\344\\271\\220\\347\\221\\266_120120910074.pdf\"\u001b[m\r\n",
      "\t\u001b[32mnew file:   \"../\\350\\257\\276\\347\\250\\213\\351\\241\\271\\347\\233\\256\\350\\246\\201\\346\\261\\202-\\350\\256\\241\\347\\256\\227\\346\\226\\207\\346\\234\\254\\345\\210\\206\\346\\236\\220-2022\\346\\230\\245.pdf\"\u001b[m\r\n",
      "\r\n",
      "Changes not staged for commit:\r\n",
      "  (use \"git add <file>...\" to update what will be committed)\r\n",
      "  (use \"git restore <file>...\" to discard changes in working directory)\r\n",
      "\t\u001b[31mmodified:   CTA_proposal.ipynb\u001b[m\r\n",
      "\r\n",
      "Untracked files:\r\n",
      "  (use \"git add <file>...\" to include in what will be committed)\r\n",
      "\t\u001b[31m../../../.DS_Store\u001b[m\r\n",
      "\t\u001b[31m../../.DS_Store\u001b[m\r\n",
      "\t\u001b[31m../../.idea/\u001b[m\r\n",
      "\t\u001b[31m../../2021_week5_lab/\u001b[m\r\n",
      "\t\u001b[31m../.DS_Store\u001b[m\r\n",
      "\t\u001b[31m.ipynb_checkpoints/\u001b[m\r\n",
      "\t\u001b[31mTweet-Emotion-Analysis/\u001b[m\r\n",
      "\t\u001b[31m../../week1-intro/\u001b[m\r\n",
      "\t\u001b[31m../../week10-lab3/\u001b[m\r\n",
      "\t\u001b[31m../../week2-WebScraping/\u001b[m\r\n",
      "\t\u001b[31m../../week3-lab/\u001b[m\r\n",
      "\t\u001b[31m../../week4-processing/\u001b[m\r\n",
      "\t\u001b[31m../../week5-tm&we/\u001b[m\r\n",
      "\t\u001b[31m../../week6-lab-craw+tm&we/\u001b[m\r\n",
      "\t\u001b[31m../../week7-introML/\u001b[m\r\n",
      "\t\u001b[31m../../week8-introDL/\u001b[m\r\n",
      "\t\u001b[31m../../week9-CNN-RNN/\u001b[m\r\n",
      "\t\u001b[31m../../../Empirical_IO_2022Spring 2/\u001b[m\r\n",
      "\t\u001b[31m../../../py_4_e/\u001b[m\r\n",
      "\t\u001b[31m../../../py_projects_2022/\u001b[m\r\n",
      "\t\u001b[31m../../../py_pycharm/\u001b[m\r\n",
      "\t\u001b[31m../../../visualization/\u001b[m\r\n",
      "\r\n"
     ]
    }
   ],
   "source": [
    "! git status"
   ]
  },
  {
   "cell_type": "code",
   "execution_count": 35,
   "metadata": {},
   "outputs": [
    {
     "name": "stdout",
     "output_type": "stream",
     "text": [
      "[main a82dc96] code1\r\n",
      " 1 file changed, 57 insertions(+), 14 deletions(-)\r\n"
     ]
    }
   ],
   "source": [
    "! git commit -m 'code1' CTA_proposal.ipynb"
   ]
  },
  {
   "cell_type": "code",
   "execution_count": 38,
   "metadata": {},
   "outputs": [],
   "source": [
    "! git config pull.ff false"
   ]
  },
  {
   "cell_type": "code",
   "execution_count": 36,
   "metadata": {},
   "outputs": [
    {
     "name": "stdout",
     "output_type": "stream",
     "text": [
      "To https://github.com/Liagogo/Tweet-Emotion-Analysis\r\n",
      " \u001b[31m! [rejected]       \u001b[m main -> main (non-fast-forward)\r\n",
      "\u001b[31merror: failed to push some refs to 'https://github.com/Liagogo/Tweet-Emotion-Analysis'\r\n",
      "\u001b[m\u001b[33mhint: Updates were rejected because the tip of your current branch is behind\u001b[m\r\n",
      "\u001b[33mhint: its remote counterpart. Integrate the remote changes (e.g.\u001b[m\r\n",
      "\u001b[33mhint: 'git pull ...') before pushing again.\u001b[m\r\n",
      "\u001b[33mhint: See the 'Note about fast-forwards' in 'git push --help' for details.\u001b[m\r\n"
     ]
    }
   ],
   "source": [
    "! git push main main"
   ]
  },
  {
   "cell_type": "code",
   "execution_count": 39,
   "metadata": {},
   "outputs": [
    {
     "name": "stdout",
     "output_type": "stream",
     "text": [
      "From https://github.com/Liagogo/Tweet-Emotion-Analysis\r\n",
      " * branch            main       -> FETCH_HEAD\r\n",
      "fatal: refusing to merge unrelated histories\r\n"
     ]
    }
   ],
   "source": [
    "! git pull main main"
   ]
  },
  {
   "cell_type": "markdown",
   "metadata": {},
   "source": [
    "## Data Scraping"
   ]
  },
  {
   "cell_type": "code",
   "execution_count": null,
   "metadata": {},
   "outputs": [],
   "source": []
  }
 ],
 "metadata": {
  "kernelspec": {
   "display_name": "Python 3",
   "language": "python",
   "name": "python3"
  },
  "language_info": {
   "codemirror_mode": {
    "name": "ipython",
    "version": 3
   },
   "file_extension": ".py",
   "mimetype": "text/x-python",
   "name": "python",
   "nbconvert_exporter": "python",
   "pygments_lexer": "ipython3",
   "version": "3.8.5"
  }
 },
 "nbformat": 4,
 "nbformat_minor": 4
}
